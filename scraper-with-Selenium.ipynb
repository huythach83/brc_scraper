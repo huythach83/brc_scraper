{
 "cells": [
  {
   "cell_type": "code",
   "execution_count": null,
   "metadata": {},
   "outputs": [],
   "source": [
    "# Import libraries\n",
    "from selenium import webdriver\n",
    "from bs4 import BeautifulSoup\n",
    "import re\n",
    "\n",
    "link = 'https://www.brcdirectory.com/internalsite/index.aspx'\n",
    "\n",
    "options = webdriver.ChromeOptions()\n",
    "options.add_argument('headless')\n",
    "\n",
    "driver = webdriver.Chrome(options=options)\n",
    "print('Downloading main website...')\n",
    "driver.get(link)\n",
    "print('Done!')\n",
    "\n",
    "button = driver.find_elements_by_xpath(\"//input[@name='ctl00$ContentPlaceHolder1$GOCS' and @class='button']\")[0]\n",
    "print('Search button clicked. Please wait...')\n",
    "button.click()\n",
    "print('Done!')\n",
    "\n",
    "table_list = {}"
   ]
  },
  {
   "cell_type": "code",
   "execution_count": null,
   "metadata": {},
   "outputs": [],
   "source": [
    "html = driver.page_source\n",
    "\n",
    "# Extract the table\n",
    "soup = BeautifulSoup(html, 'lxml')\n",
    "\n",
    "data = soup.find('table', {'id': re.compile(r'.+ContentPlaceHolder.+')})\n",
    "\n",
    "current_page = data.find_all('table')[-1].span.text\n",
    "\n",
    "filename = 'page_'+current_page+'.html'\n",
    "\n",
    "# Write the table to file\n",
    "with open(filename, 'w+', encoding='utf8') as file:\n",
    "    file.write((''.join([str(content) for content in data.contents])).strip())"
   ]
  },
  {
   "cell_type": "code",
   "execution_count": null,
   "metadata": {},
   "outputs": [],
   "source": [
    "# Find next page button\n",
    "next_page = int(current_page) + 1\n",
    "button = driver.find_element_by_link_text(str(next_page))\n",
    "\n",
    "# Click on the button\n",
    "button.click()"
   ]
  },
  {
   "cell_type": "code",
   "execution_count": null,
   "metadata": {},
   "outputs": [],
   "source": [
    "# Close the driver\n",
    "driver.quit()"
   ]
  }
 ],
 "metadata": {
  "file_extension": ".py",
  "kernelspec": {
   "display_name": "Python 3",
   "language": "python",
   "name": "python3"
  },
  "language_info": {
   "codemirror_mode": {
    "name": "ipython",
    "version": 3
   },
   "file_extension": ".py",
   "mimetype": "text/x-python",
   "name": "python",
   "nbconvert_exporter": "python",
   "pygments_lexer": "ipython3",
   "version": "3.7.7"
  },
  "mimetype": "text/x-python",
  "name": "python",
  "npconvert_exporter": "python",
  "pygments_lexer": "ipython3",
  "version": 3
 },
 "nbformat": 4,
 "nbformat_minor": 4
}
